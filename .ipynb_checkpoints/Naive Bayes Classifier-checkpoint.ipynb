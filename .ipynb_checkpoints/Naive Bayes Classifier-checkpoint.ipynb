{
 "cells": [
  {
   "cell_type": "markdown",
   "id": "483b5daa",
   "metadata": {},
   "source": [
    "# Import Dependencies"
   ]
  },
  {
   "cell_type": "code",
   "execution_count": 46,
   "id": "a318577e",
   "metadata": {},
   "outputs": [],
   "source": [
    "import tweepy\n",
    "import os\n",
    "from textblob import TextBlob\n",
    "from wordcloud import WordCloud\n",
    "import pandas as pd\n",
    "import numpy as np\n",
    "import seaborn as sns\n",
    "import re\n",
    "import matplotlib.pyplot as plt\n"
   ]
  },
  {
   "cell_type": "code",
   "execution_count": 32,
   "id": "feeaa2f9",
   "metadata": {},
   "outputs": [],
   "source": [
    "# read file\n",
    "\n",
    "log = pd.read_csv(r\"C:\\Users\\Admin\\Desktop\\IIT\\L6\\Applied AI\\CW\\keys.csv\")"
   ]
  },
  {
   "cell_type": "code",
   "execution_count": 33,
   "id": "8983ee8c",
   "metadata": {},
   "outputs": [],
   "source": [
    "# Twitter API credentials\n",
    "\n",
    "consumerKey = log['key'][0]\n",
    "consumerSecret = log['key'][1]\n",
    "accessToken = log['key'][2]\n",
    "accessTokenSecret = log['key'][3]"
   ]
  },
  {
   "cell_type": "code",
   "execution_count": 34,
   "id": "532cceb9",
   "metadata": {},
   "outputs": [],
   "source": [
    "# Create authentication\n",
    "authenticate = tweepy.OAuthHandler(consumerKey, consumerSecret)\n",
    "\n",
    "# Set the access and acess token secret\n",
    "authenticate.set_access_token(accessToken, accessTokenSecret)\n",
    "\n",
    "#Create nthe API object while passing in the auth information\n",
    "api = tweepy.API(authenticate, wait_on_rate_limit = True)"
   ]
  },
  {
   "cell_type": "code",
   "execution_count": 38,
   "id": "e9cdd71a",
   "metadata": {},
   "outputs": [
    {
     "name": "stdout",
     "output_type": "stream",
     "text": [
      "The US will require essential travelers crossing into the United States via land ports of entry and ferry terminals to be fully vaccinated for Covid-19 and provide proof of vaccination starting Saturday, according to the Department of Homeland Security. https://t.co/yhBUdERsDt\n",
      "\n",
      "United States federal prosecutors have charged four Belarus officials with piracy-related charges for diverting a RyanAir airplane mid-flight last year to arrest a journalist critical of the government. https://t.co/oXjV3v9UDh\n",
      "\n",
      "A statue of Theodore Roosevelt, depicting the 26th US president on horseback with a Native American man and an African man on either side of him, that sat in front of the American Museum of Natural History in New York has been removed https://t.co/jFbWrEwPvR\n",
      "\n",
      "Scientists made an incredible discovery in November: acres of giant, pristine, rose-shaped corals blossoming from the sea floor off the coast of Tahiti in what's known as the ocean's \"twilight zone,\" where there’s just enough light to support life https://t.co/aplrtGPYCY https://t.co/poiY2N5YWF\n",
      "\n",
      "Singer Adele fought back tears in a video on Instagram explaining that despite a scramble to make it work, she has to postpone her Las Vegas residency. https://t.co/vEHDZiuhOD https://t.co/oiLWmgXnbf\n",
      "\n"
     ]
    }
   ],
   "source": [
    "# Exratct 100 tweets from the twitter user\n",
    "\n",
    "posts =  api.user_timeline(screen_name=\"CNN\", count=400, tweet_mode=\"extended\")\n",
    "\n",
    "# print last 5 tweets\n",
    "for tweet in posts[0:5]:\n",
    "    print(tweet.full_text + '\\n')"
   ]
  },
  {
   "cell_type": "code",
   "execution_count": 39,
   "id": "78dd1389",
   "metadata": {},
   "outputs": [
    {
     "data": {
      "text/html": [
       "<div>\n",
       "<style scoped>\n",
       "    .dataframe tbody tr th:only-of-type {\n",
       "        vertical-align: middle;\n",
       "    }\n",
       "\n",
       "    .dataframe tbody tr th {\n",
       "        vertical-align: top;\n",
       "    }\n",
       "\n",
       "    .dataframe thead th {\n",
       "        text-align: right;\n",
       "    }\n",
       "</style>\n",
       "<table border=\"1\" class=\"dataframe\">\n",
       "  <thead>\n",
       "    <tr style=\"text-align: right;\">\n",
       "      <th></th>\n",
       "      <th>Tweets</th>\n",
       "    </tr>\n",
       "  </thead>\n",
       "  <tbody>\n",
       "    <tr>\n",
       "      <th>195</th>\n",
       "      <td>Dak Prescott has apologized for his comment pr...</td>\n",
       "    </tr>\n",
       "    <tr>\n",
       "      <th>196</th>\n",
       "      <td>Top US law enforcement officials sought to rea...</td>\n",
       "    </tr>\n",
       "    <tr>\n",
       "      <th>197</th>\n",
       "      <td>Texas wildfire forces residents to evacuate as...</td>\n",
       "    </tr>\n",
       "    <tr>\n",
       "      <th>198</th>\n",
       "      <td>Mysterious scepters found in an ancient burial...</td>\n",
       "    </tr>\n",
       "    <tr>\n",
       "      <th>199</th>\n",
       "      <td>Tonga faces \"unprecedented disaster\" as New Ze...</td>\n",
       "    </tr>\n",
       "  </tbody>\n",
       "</table>\n",
       "</div>"
      ],
      "text/plain": [
       "                                                Tweets\n",
       "195  Dak Prescott has apologized for his comment pr...\n",
       "196  Top US law enforcement officials sought to rea...\n",
       "197  Texas wildfire forces residents to evacuate as...\n",
       "198  Mysterious scepters found in an ancient burial...\n",
       "199  Tonga faces \"unprecedented disaster\" as New Ze..."
      ]
     },
     "execution_count": 39,
     "metadata": {},
     "output_type": "execute_result"
    }
   ],
   "source": [
    "#Create a dataframe with a column called Tweets\n",
    "df = pd.DataFrame( [tweet.full_text for tweet in posts], columns=['Tweets'])\n",
    "\n",
    "# show the 1st 5 rows\n",
    "df.tail()\n"
   ]
  },
  {
   "cell_type": "code",
   "execution_count": 40,
   "id": "cb1c6ba0",
   "metadata": {},
   "outputs": [
    {
     "data": {
      "text/html": [
       "<div>\n",
       "<style scoped>\n",
       "    .dataframe tbody tr th:only-of-type {\n",
       "        vertical-align: middle;\n",
       "    }\n",
       "\n",
       "    .dataframe tbody tr th {\n",
       "        vertical-align: top;\n",
       "    }\n",
       "\n",
       "    .dataframe thead th {\n",
       "        text-align: right;\n",
       "    }\n",
       "</style>\n",
       "<table border=\"1\" class=\"dataframe\">\n",
       "  <thead>\n",
       "    <tr style=\"text-align: right;\">\n",
       "      <th></th>\n",
       "      <th>Tweets</th>\n",
       "    </tr>\n",
       "  </thead>\n",
       "  <tbody>\n",
       "    <tr>\n",
       "      <th>0</th>\n",
       "      <td>The US will require essential travelers crossi...</td>\n",
       "    </tr>\n",
       "    <tr>\n",
       "      <th>1</th>\n",
       "      <td>United States federal prosecutors have charged...</td>\n",
       "    </tr>\n",
       "    <tr>\n",
       "      <th>2</th>\n",
       "      <td>A statue of Theodore Roosevelt, depicting the ...</td>\n",
       "    </tr>\n",
       "    <tr>\n",
       "      <th>3</th>\n",
       "      <td>Scientists made an incredible discovery in Nov...</td>\n",
       "    </tr>\n",
       "    <tr>\n",
       "      <th>4</th>\n",
       "      <td>Singer Adele fought back tears in a video on I...</td>\n",
       "    </tr>\n",
       "    <tr>\n",
       "      <th>...</th>\n",
       "      <td>...</td>\n",
       "    </tr>\n",
       "    <tr>\n",
       "      <th>195</th>\n",
       "      <td>Dak Prescott has apologized for his comment pr...</td>\n",
       "    </tr>\n",
       "    <tr>\n",
       "      <th>196</th>\n",
       "      <td>Top US law enforcement officials sought to rea...</td>\n",
       "    </tr>\n",
       "    <tr>\n",
       "      <th>197</th>\n",
       "      <td>Texas wildfire forces residents to evacuate as...</td>\n",
       "    </tr>\n",
       "    <tr>\n",
       "      <th>198</th>\n",
       "      <td>Mysterious scepters found in an ancient burial...</td>\n",
       "    </tr>\n",
       "    <tr>\n",
       "      <th>199</th>\n",
       "      <td>Tonga faces \"unprecedented disaster\" as New Ze...</td>\n",
       "    </tr>\n",
       "  </tbody>\n",
       "</table>\n",
       "<p>200 rows × 1 columns</p>\n",
       "</div>"
      ],
      "text/plain": [
       "                                                Tweets\n",
       "0    The US will require essential travelers crossi...\n",
       "1    United States federal prosecutors have charged...\n",
       "2    A statue of Theodore Roosevelt, depicting the ...\n",
       "3    Scientists made an incredible discovery in Nov...\n",
       "4    Singer Adele fought back tears in a video on I...\n",
       "..                                                 ...\n",
       "195  Dak Prescott has apologized for his comment pr...\n",
       "196  Top US law enforcement officials sought to rea...\n",
       "197  Texas wildfire forces residents to evacuate as...\n",
       "198  Mysterious scepters found in an ancient burial...\n",
       "199  Tonga faces \"unprecedented disaster\" as New Ze...\n",
       "\n",
       "[200 rows x 1 columns]"
      ]
     },
     "execution_count": 40,
     "metadata": {},
     "output_type": "execute_result"
    }
   ],
   "source": [
    "df"
   ]
  },
  {
   "cell_type": "code",
   "execution_count": 41,
   "id": "fa5bab2b",
   "metadata": {},
   "outputs": [
    {
     "name": "stdout",
     "output_type": "stream",
     "text": [
      "<class 'pandas.core.frame.DataFrame'>\n",
      "RangeIndex: 200 entries, 0 to 199\n",
      "Data columns (total 1 columns):\n",
      " #   Column  Non-Null Count  Dtype \n",
      "---  ------  --------------  ----- \n",
      " 0   Tweets  200 non-null    object\n",
      "dtypes: object(1)\n",
      "memory usage: 1.7+ KB\n"
     ]
    }
   ],
   "source": [
    "df.info()"
   ]
  },
  {
   "cell_type": "code",
   "execution_count": 42,
   "id": "96c916c7",
   "metadata": {},
   "outputs": [
    {
     "data": {
      "text/html": [
       "<div>\n",
       "<style scoped>\n",
       "    .dataframe tbody tr th:only-of-type {\n",
       "        vertical-align: middle;\n",
       "    }\n",
       "\n",
       "    .dataframe tbody tr th {\n",
       "        vertical-align: top;\n",
       "    }\n",
       "\n",
       "    .dataframe thead th {\n",
       "        text-align: right;\n",
       "    }\n",
       "</style>\n",
       "<table border=\"1\" class=\"dataframe\">\n",
       "  <thead>\n",
       "    <tr style=\"text-align: right;\">\n",
       "      <th></th>\n",
       "      <th>Tweets</th>\n",
       "    </tr>\n",
       "  </thead>\n",
       "  <tbody>\n",
       "    <tr>\n",
       "      <th>count</th>\n",
       "      <td>200</td>\n",
       "    </tr>\n",
       "    <tr>\n",
       "      <th>unique</th>\n",
       "      <td>200</td>\n",
       "    </tr>\n",
       "    <tr>\n",
       "      <th>top</th>\n",
       "      <td>The State Department told Congress it has appr...</td>\n",
       "    </tr>\n",
       "    <tr>\n",
       "      <th>freq</th>\n",
       "      <td>1</td>\n",
       "    </tr>\n",
       "  </tbody>\n",
       "</table>\n",
       "</div>"
      ],
      "text/plain": [
       "                                                   Tweets\n",
       "count                                                 200\n",
       "unique                                                200\n",
       "top     The State Department told Congress it has appr...\n",
       "freq                                                    1"
      ]
     },
     "execution_count": 42,
     "metadata": {},
     "output_type": "execute_result"
    }
   ],
   "source": [
    "df.describe()"
   ]
  },
  {
   "cell_type": "code",
   "execution_count": 44,
   "id": "0853ac81",
   "metadata": {},
   "outputs": [
    {
     "data": {
      "text/plain": [
       "0      The US will require essential travelers crossi...\n",
       "1      United States federal prosecutors have charged...\n",
       "2      A statue of Theodore Roosevelt, depicting the ...\n",
       "3      Scientists made an incredible discovery in Nov...\n",
       "4      Singer Adele fought back tears in a video on I...\n",
       "                             ...                        \n",
       "195    Dak Prescott has apologized for his comment pr...\n",
       "196    Top US law enforcement officials sought to rea...\n",
       "197    Texas wildfire forces residents to evacuate as...\n",
       "198    Mysterious scepters found in an ancient burial...\n",
       "199    Tonga faces \"unprecedented disaster\" as New Ze...\n",
       "Name: Tweets, Length: 200, dtype: object"
      ]
     },
     "execution_count": 44,
     "metadata": {},
     "output_type": "execute_result"
    }
   ],
   "source": [
    "df['Tweets']"
   ]
  },
  {
   "cell_type": "code",
   "execution_count": 47,
   "id": "4ef8f26a",
   "metadata": {},
   "outputs": [
    {
     "data": {
      "text/html": [
       "<div>\n",
       "<style scoped>\n",
       "    .dataframe tbody tr th:only-of-type {\n",
       "        vertical-align: middle;\n",
       "    }\n",
       "\n",
       "    .dataframe tbody tr th {\n",
       "        vertical-align: top;\n",
       "    }\n",
       "\n",
       "    .dataframe thead th {\n",
       "        text-align: right;\n",
       "    }\n",
       "</style>\n",
       "<table border=\"1\" class=\"dataframe\">\n",
       "  <thead>\n",
       "    <tr style=\"text-align: right;\">\n",
       "      <th></th>\n",
       "      <th>Tweets</th>\n",
       "      <th>Subjectivity</th>\n",
       "      <th>Polarity</th>\n",
       "    </tr>\n",
       "  </thead>\n",
       "  <tbody>\n",
       "    <tr>\n",
       "      <th>0</th>\n",
       "      <td>The US will require essential travelers crossi...</td>\n",
       "      <td>0.200000</td>\n",
       "      <td>0.000000</td>\n",
       "    </tr>\n",
       "    <tr>\n",
       "      <th>1</th>\n",
       "      <td>United States federal prosecutors have charged...</td>\n",
       "      <td>0.288889</td>\n",
       "      <td>-0.016667</td>\n",
       "    </tr>\n",
       "    <tr>\n",
       "      <th>2</th>\n",
       "      <td>A statue of Theodore Roosevelt, depicting the ...</td>\n",
       "      <td>0.170909</td>\n",
       "      <td>0.047273</td>\n",
       "    </tr>\n",
       "    <tr>\n",
       "      <th>3</th>\n",
       "      <td>Scientists made an incredible discovery in Nov...</td>\n",
       "      <td>0.775000</td>\n",
       "      <td>0.325000</td>\n",
       "    </tr>\n",
       "    <tr>\n",
       "      <th>4</th>\n",
       "      <td>Singer Adele fought back tears in a video on I...</td>\n",
       "      <td>0.000000</td>\n",
       "      <td>0.000000</td>\n",
       "    </tr>\n",
       "    <tr>\n",
       "      <th>...</th>\n",
       "      <td>...</td>\n",
       "      <td>...</td>\n",
       "      <td>...</td>\n",
       "    </tr>\n",
       "    <tr>\n",
       "      <th>195</th>\n",
       "      <td>Dak Prescott has apologized for his comment pr...</td>\n",
       "      <td>0.500000</td>\n",
       "      <td>-0.166667</td>\n",
       "    </tr>\n",
       "    <tr>\n",
       "      <th>196</th>\n",
       "      <td>Top US law enforcement officials sought to rea...</td>\n",
       "      <td>0.391667</td>\n",
       "      <td>0.216667</td>\n",
       "    </tr>\n",
       "    <tr>\n",
       "      <th>197</th>\n",
       "      <td>Texas wildfire forces residents to evacuate as...</td>\n",
       "      <td>0.000000</td>\n",
       "      <td>0.000000</td>\n",
       "    </tr>\n",
       "    <tr>\n",
       "      <th>198</th>\n",
       "      <td>Mysterious scepters found in an ancient burial...</td>\n",
       "      <td>1.000000</td>\n",
       "      <td>0.000000</td>\n",
       "    </tr>\n",
       "    <tr>\n",
       "      <th>199</th>\n",
       "      <td>Tonga faces \"unprecedented disaster\" as New Ze...</td>\n",
       "      <td>0.618182</td>\n",
       "      <td>0.245455</td>\n",
       "    </tr>\n",
       "  </tbody>\n",
       "</table>\n",
       "<p>200 rows × 3 columns</p>\n",
       "</div>"
      ],
      "text/plain": [
       "                                                Tweets  Subjectivity  Polarity\n",
       "0    The US will require essential travelers crossi...      0.200000  0.000000\n",
       "1    United States federal prosecutors have charged...      0.288889 -0.016667\n",
       "2    A statue of Theodore Roosevelt, depicting the ...      0.170909  0.047273\n",
       "3    Scientists made an incredible discovery in Nov...      0.775000  0.325000\n",
       "4    Singer Adele fought back tears in a video on I...      0.000000  0.000000\n",
       "..                                                 ...           ...       ...\n",
       "195  Dak Prescott has apologized for his comment pr...      0.500000 -0.166667\n",
       "196  Top US law enforcement officials sought to rea...      0.391667  0.216667\n",
       "197  Texas wildfire forces residents to evacuate as...      0.000000  0.000000\n",
       "198  Mysterious scepters found in an ancient burial...      1.000000  0.000000\n",
       "199  Tonga faces \"unprecedented disaster\" as New Ze...      0.618182  0.245455\n",
       "\n",
       "[200 rows x 3 columns]"
      ]
     },
     "execution_count": 47,
     "metadata": {},
     "output_type": "execute_result"
    }
   ],
   "source": [
    "# Function to get the subjectivity\n",
    "def getSubjectivity(text):\n",
    "    return TextBlob(text).sentiment.subjectivity\n",
    "\n",
    "#Create a function to get the polarity\n",
    "def getPolarity(text):\n",
    "    return TextBlob(text).sentiment.polarity\n",
    "\n",
    "\n",
    "#Create two new coloumns\n",
    "\n",
    "df['Subjectivity'] = df['Tweets'].apply(getSubjectivity)\n",
    "df['Polarity'] = df['Tweets'].apply(getPolarity)\n",
    "\n",
    "\n",
    "df"
   ]
  },
  {
   "cell_type": "code",
   "execution_count": 48,
   "id": "1d193c86",
   "metadata": {},
   "outputs": [
    {
     "data": {
      "text/html": [
       "<div>\n",
       "<style scoped>\n",
       "    .dataframe tbody tr th:only-of-type {\n",
       "        vertical-align: middle;\n",
       "    }\n",
       "\n",
       "    .dataframe tbody tr th {\n",
       "        vertical-align: top;\n",
       "    }\n",
       "\n",
       "    .dataframe thead th {\n",
       "        text-align: right;\n",
       "    }\n",
       "</style>\n",
       "<table border=\"1\" class=\"dataframe\">\n",
       "  <thead>\n",
       "    <tr style=\"text-align: right;\">\n",
       "      <th></th>\n",
       "      <th>Tweets</th>\n",
       "      <th>Subjectivity</th>\n",
       "      <th>Polarity</th>\n",
       "      <th>Analysis</th>\n",
       "    </tr>\n",
       "  </thead>\n",
       "  <tbody>\n",
       "    <tr>\n",
       "      <th>0</th>\n",
       "      <td>The US will require essential travelers crossi...</td>\n",
       "      <td>0.200000</td>\n",
       "      <td>0.000000</td>\n",
       "      <td>Neutral</td>\n",
       "    </tr>\n",
       "    <tr>\n",
       "      <th>1</th>\n",
       "      <td>United States federal prosecutors have charged...</td>\n",
       "      <td>0.288889</td>\n",
       "      <td>-0.016667</td>\n",
       "      <td>Negative</td>\n",
       "    </tr>\n",
       "    <tr>\n",
       "      <th>2</th>\n",
       "      <td>A statue of Theodore Roosevelt, depicting the ...</td>\n",
       "      <td>0.170909</td>\n",
       "      <td>0.047273</td>\n",
       "      <td>Positive</td>\n",
       "    </tr>\n",
       "    <tr>\n",
       "      <th>3</th>\n",
       "      <td>Scientists made an incredible discovery in Nov...</td>\n",
       "      <td>0.775000</td>\n",
       "      <td>0.325000</td>\n",
       "      <td>Positive</td>\n",
       "    </tr>\n",
       "    <tr>\n",
       "      <th>4</th>\n",
       "      <td>Singer Adele fought back tears in a video on I...</td>\n",
       "      <td>0.000000</td>\n",
       "      <td>0.000000</td>\n",
       "      <td>Neutral</td>\n",
       "    </tr>\n",
       "    <tr>\n",
       "      <th>...</th>\n",
       "      <td>...</td>\n",
       "      <td>...</td>\n",
       "      <td>...</td>\n",
       "      <td>...</td>\n",
       "    </tr>\n",
       "    <tr>\n",
       "      <th>195</th>\n",
       "      <td>Dak Prescott has apologized for his comment pr...</td>\n",
       "      <td>0.500000</td>\n",
       "      <td>-0.166667</td>\n",
       "      <td>Negative</td>\n",
       "    </tr>\n",
       "    <tr>\n",
       "      <th>196</th>\n",
       "      <td>Top US law enforcement officials sought to rea...</td>\n",
       "      <td>0.391667</td>\n",
       "      <td>0.216667</td>\n",
       "      <td>Positive</td>\n",
       "    </tr>\n",
       "    <tr>\n",
       "      <th>197</th>\n",
       "      <td>Texas wildfire forces residents to evacuate as...</td>\n",
       "      <td>0.000000</td>\n",
       "      <td>0.000000</td>\n",
       "      <td>Neutral</td>\n",
       "    </tr>\n",
       "    <tr>\n",
       "      <th>198</th>\n",
       "      <td>Mysterious scepters found in an ancient burial...</td>\n",
       "      <td>1.000000</td>\n",
       "      <td>0.000000</td>\n",
       "      <td>Neutral</td>\n",
       "    </tr>\n",
       "    <tr>\n",
       "      <th>199</th>\n",
       "      <td>Tonga faces \"unprecedented disaster\" as New Ze...</td>\n",
       "      <td>0.618182</td>\n",
       "      <td>0.245455</td>\n",
       "      <td>Positive</td>\n",
       "    </tr>\n",
       "  </tbody>\n",
       "</table>\n",
       "<p>200 rows × 4 columns</p>\n",
       "</div>"
      ],
      "text/plain": [
       "                                                Tweets  Subjectivity  \\\n",
       "0    The US will require essential travelers crossi...      0.200000   \n",
       "1    United States federal prosecutors have charged...      0.288889   \n",
       "2    A statue of Theodore Roosevelt, depicting the ...      0.170909   \n",
       "3    Scientists made an incredible discovery in Nov...      0.775000   \n",
       "4    Singer Adele fought back tears in a video on I...      0.000000   \n",
       "..                                                 ...           ...   \n",
       "195  Dak Prescott has apologized for his comment pr...      0.500000   \n",
       "196  Top US law enforcement officials sought to rea...      0.391667   \n",
       "197  Texas wildfire forces residents to evacuate as...      0.000000   \n",
       "198  Mysterious scepters found in an ancient burial...      1.000000   \n",
       "199  Tonga faces \"unprecedented disaster\" as New Ze...      0.618182   \n",
       "\n",
       "     Polarity  Analysis  \n",
       "0    0.000000   Neutral  \n",
       "1   -0.016667  Negative  \n",
       "2    0.047273  Positive  \n",
       "3    0.325000  Positive  \n",
       "4    0.000000   Neutral  \n",
       "..        ...       ...  \n",
       "195 -0.166667  Negative  \n",
       "196  0.216667  Positive  \n",
       "197  0.000000   Neutral  \n",
       "198  0.000000   Neutral  \n",
       "199  0.245455  Positive  \n",
       "\n",
       "[200 rows x 4 columns]"
      ]
     },
     "execution_count": 48,
     "metadata": {},
     "output_type": "execute_result"
    }
   ],
   "source": [
    "# Create a function to somput the negative / neutral and positive analysis\n",
    "\n",
    "def getAnalysis(score):\n",
    "    if score < 0:\n",
    "        return 'Negative'\n",
    "    elif score == 0:\n",
    "        return 'Neutral'\n",
    "    else:\n",
    "        return 'Positive'\n",
    "    \n",
    "    \n",
    "df['Analysis'] = df['Polarity'].apply(getAnalysis)\n",
    "\n",
    "#Show new columns\n",
    "df\n",
    "    "
   ]
  },
  {
   "cell_type": "code",
   "execution_count": 49,
   "id": "cb1a01c4",
   "metadata": {},
   "outputs": [
    {
     "data": {
      "text/plain": [
       "array([[<AxesSubplot:title={'center':'Subjectivity'}>,\n",
       "        <AxesSubplot:title={'center':'Polarity'}>]], dtype=object)"
      ]
     },
     "execution_count": 49,
     "metadata": {},
     "output_type": "execute_result"
    },
    {
     "data": {
      "image/png": "[encoded data removed]",
      "text/plain": [
       "<Figure size 936x360 with 2 Axes>"
      ]
     },
     "metadata": {
      "needs_background": "light"
     },
     "output_type": "display_data"
    }
   ],
   "source": [
    "df.hist(bins = 30, figsize =(13,5), color = 'r')"
   ]
  },
  {
   "cell_type": "code",
   "execution_count": 51,
   "id": "64b3faa7",
   "metadata": {},
   "outputs": [],
   "source": [
    "tweetsdf = df.drop(['Subjectivity', 'Polarity'], axis = 1)"
   ]
  },
  {
   "cell_type": "code",
   "execution_count": null,
   "id": "f271a4f6",
   "metadata": {},
   "outputs": [],
   "source": []
  },
  {
   "cell_type": "code",
   "execution_count": null,
   "id": "ba99b4c0",
   "metadata": {},
   "outputs": [],
   "source": []
  },
  {
   "cell_type": "code",
   "execution_count": null,
   "id": "b8293782",
   "metadata": {},
   "outputs": [],
   "source": []
  },
  {
   "cell_type": "code",
   "execution_count": null,
   "id": "ba61c7c7",
   "metadata": {},
   "outputs": [],
   "source": []
  },
  {
   "cell_type": "code",
   "execution_count": null,
   "id": "28c6c2b9",
   "metadata": {},
   "outputs": [],
   "source": []
  },
  {
   "cell_type": "code",
   "execution_count": null,
   "id": "c571263a",
   "metadata": {},
   "outputs": [],
   "source": []
  },
  {
   "cell_type": "code",
   "execution_count": null,
   "id": "5e37c0bd",
   "metadata": {},
   "outputs": [],
   "source": []
  },
  {
   "cell_type": "code",
   "execution_count": null,
   "id": "4f8c9032",
   "metadata": {},
   "outputs": [],
   "source": []
  }
 ],
 "metadata": {
  "kernelspec": {
   "display_name": "Python 3 (ipykernel)",
   "language": "python",
   "name": "python3"
  },
  "language_info": {
   "codemirror_mode": {
    "name": "ipython",
    "version": 3
   },
   "file_extension": ".py",
   "mimetype": "text/x-python",
   "name": "python",
   "nbconvert_exporter": "python",
   "pygments_lexer": "ipython3",
   "version": "3.7.6"
  }
 },
 "nbformat": 4,
 "nbformat_minor": 5
}
